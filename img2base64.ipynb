{
 "cells": [
  {
   "cell_type": "code",
   "execution_count": 4,
   "metadata": {},
   "outputs": [
    {
     "name": "stdout",
     "output_type": "stream",
     "text": [
      "The <img> element is save in \u001b[4myour-custom-name.txt\u001b[0m file.\n",
      "Open it and copy the whole content, then paste in your html directly.\n"
     ]
    }
   ],
   "source": [
    "# This method will produce a Base64 img element for import into an html file.\n",
    "# \n",
    "# Usage: \n",
    "# point to your image file => image_file_name\n",
    "# set id for your <img> element => img_element_id\n",
    "# By default it will save the file in the same directory as this script.\n",
    "\n",
    "import base64\n",
    "\n",
    "image_file_name = 'your-image.png'\n",
    "img_element_id = 'your-custom-name'\n",
    "\n",
    "def main():\n",
    "    try:\n",
    "        with open(image_file_name, 'rb') as image_file:\n",
    "            encoded_string = base64.b64encode(image_file.read())\n",
    "    except FileNotFoundError:\n",
    "        print(f'Could not find \\033[4m{image_file_name}\\033[0m')\n",
    "        return 0\n",
    "\n",
    "    f = open(f'{img_element_id}.txt', 'a')\n",
    "    f.write(f'<img id=\"{img_element_id}\" src=\"data:image/png;base64,{encoded_string.decode(\"utf-8\")}\">')\n",
    "    f.close()\n",
    "    print(f'The <img> element is saved in \\033[4m{img_element_id}.txt\\033[0m file.')\n",
    "    print('Open it and copy the whole content, then paste in your html directly.')\n",
    "\n",
    "if __name__ == \"__main__\":\n",
    "    main()\n"
   ]
  }
 ],
 "metadata": {
  "kernelspec": {
   "display_name": "base",
   "language": "python",
   "name": "python3"
  },
  "language_info": {
   "codemirror_mode": {
    "name": "ipython",
    "version": 3
   },
   "file_extension": ".py",
   "mimetype": "text/x-python",
   "name": "python",
   "nbconvert_exporter": "python",
   "pygments_lexer": "ipython3",
   "version": "3.9.13"
  },
  "orig_nbformat": 4
 },
 "nbformat": 4,
 "nbformat_minor": 2
}
